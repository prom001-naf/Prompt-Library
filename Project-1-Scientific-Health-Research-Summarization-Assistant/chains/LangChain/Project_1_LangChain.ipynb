{
  "nbformat": 4,
  "nbformat_minor": 0,
  "metadata": {
    "colab": {
      "provenance": []
    },
    "kernelspec": {
      "name": "python3",
      "display_name": "Python 3"
    },
    "language_info": {
      "name": "python"
    }
  },
  "cells": [
    {
      "cell_type": "code",
      "execution_count": null,
      "metadata": {
        "id": "L8PC2Lkpsa5o"
      },
      "outputs": [],
      "source": [
        "pip install langchain openai PyPDF2"
      ]
    },
    {
      "cell_type": "code",
      "source": [
        "from langchain.llms import OpenAI\n",
        "from langchain.prompts import PromptTemplate\n",
        "from langchain.chains import LLMChain\n",
        "import PyPDF2\n",
        "import os\n",
        "\n",
        "# 🔐 Load API Key\n",
        "openai_key = os.getenv(\"OPENAI_API_KEY\") or \"sk-xxxx\"\n",
        "llm = OpenAI(openai_api_key=openai_key, model_name=\"gpt-3.5-turbo\") # or gpt-4 (refer to requirements.txt in langchain folder)\n",
        "\n",
        "# 📥 Load PDF or use a text string\n",
        "def extract_text_from_pdf(file_path):\n",
        "    with open(file_path, \"rb\") as f:\n",
        "        reader = PyPDF2.PdfReader(f)\n",
        "        return \"\".join([page.extract_text() for page in reader.pages if page.extract_text()])\n",
        "\n",
        "# 🧠 Prompt template\n",
        "template = \"\"\"\n",
        "You are a medical science summarizer. Summarize the following research article into a {summary_type}:\n",
        "\n",
        "{text}\n",
        "\"\"\"\n",
        "\n",
        "prompt = PromptTemplate(input_variables=[\"summary_type\", \"text\"], template=template)\n",
        "\n",
        "# 🔄 Chain setup\n",
        "chain = LLMChain(llm=llm, prompt=prompt)\n",
        "\n",
        "# 📄 Input your PDF or text\n",
        "text = extract_text_from_pdf(\"documents/your_paper.pdf\")  # OR manually paste your own\n",
        "\n",
        "# 📊 Run summaries\n",
        "for summary_type in [\"plain-language summary\", \"executive summary\", \"social media summary\"]:\n",
        "    print(f\"\\n=== {summary_type.upper()} ===\")\n",
        "    output = chain.run(summary_type=summary_type, text=text[:3000])  # truncate if needed\n",
        "    print(output)\n"
      ],
      "metadata": {
        "id": "jbIRHpZstDEK"
      },
      "execution_count": null,
      "outputs": []
    }
  ]
}